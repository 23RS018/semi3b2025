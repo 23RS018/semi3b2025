{
 "cells": [
  {
   "cell_type": "code",
   "execution_count": 2,
   "id": "a2544eff",
   "metadata": {},
   "outputs": [],
   "source": [
    "# ── セル 1: ライブラリのインストール ───────────────────────────────\n",
    "!pip install -q pdfplumber pandas openpyxl\n",
    "!pip install -q japanize-matplotlib"
   ]
  },
  {
   "cell_type": "code",
   "execution_count": 3,
   "id": "3d7fb0cc",
   "metadata": {},
   "outputs": [],
   "source": [
    "# ── セル 2: インポート ───────────────────────────────────────────\n",
    "import pdfplumber, pandas as pd\n",
    "from pathlib import Path\n",
    "import matplotlib.pyplot as plt\n",
    "import japanize_matplotlib"
   ]
  },
  {
   "cell_type": "code",
   "execution_count": 4,
   "id": "9abd7c9d",
   "metadata": {},
   "outputs": [
    {
     "name": "stderr",
     "output_type": "stream",
     "text": [
      "Could get FontBBox from font descriptor because None cannot be parsed as 4 floats\n",
      "Could get FontBBox from font descriptor because None cannot be parsed as 4 floats\n",
      "Could get FontBBox from font descriptor because None cannot be parsed as 4 floats\n",
      "Could get FontBBox from font descriptor because None cannot be parsed as 4 floats\n"
     ]
    },
    {
     "name": "stdout",
     "output_type": "stream",
     "text": [
      "抽出列: ['No.', '商品コード', '商品名', '仕様・規格', '単位', '数量', '単価(円)', '金額(円)', '備考']\n"
     ]
    }
   ],
   "source": [
    "# ── セル 3: PDF からテーブル抽出 ────────────────────────────────\n",
    "pdf_path = Path(\"商品発注表.pdf\")\n",
    "assert pdf_path.exists(), f\"PDF が見つかりません: {pdf_path.resolve()}\"\n",
    " \n",
    "tables = []\n",
    "with pdfplumber.open(pdf_path) as pdf:\n",
    "    for page in pdf.pages:\n",
    "        tables.extend(page.extract_tables())\n",
    " \n",
    "# ヘッダーに「商品コード」があるテーブルを採用\n",
    "df = None\n",
    "for tbl in tables:\n",
    "    if tbl and any(\"商品コード\" in (cell or \"\") for cell in tbl[0]):\n",
    "        df = pd.DataFrame(tbl[1:], columns=tbl[0])\n",
    "        break\n",
    "if df is None:\n",
    "    raise ValueError(\"対象となるテーブルが見つかりません。\")\n",
    " \n",
    "print(\"抽出列:\", df.columns.tolist())  # 列名を確認"
   ]
  },
  {
   "cell_type": "code",
   "execution_count": 5,
   "id": "10ad9fd7",
   "metadata": {},
   "outputs": [
    {
     "name": "stdout",
     "output_type": "stream",
     "text": [
      "数量列: 数量 | 単価列: 単価(円) | 金額列: 金額(円)\n"
     ]
    }
   ],
   "source": [
    "# ── セル 4: 列名を標準化し、必要列を自動検出 ─────────────────────\n",
    "# 全角記号や空白を取り除く\n",
    "df = df.rename(\n",
    "    columns=lambda c: (\n",
    "        c.strip()\n",
    "         .replace(\"（\", \"(\")\n",
    "         .replace(\"）\", \")\")\n",
    "         .replace(\" \", \"\")\n",
    "         .replace(\"\\t\", \"\")\n",
    "    )\n",
    ")\n",
    " \n",
    "# キーワードで列名を見つける\n",
    "qty_col   = next((c for c in df.columns if \"数量\" in c),  None)\n",
    "price_col = next((c for c in df.columns if \"単価\" in c),  None)\n",
    "amt_col   = next((c for c in df.columns if \"金額\" in c),  None)\n",
    " \n",
    "print(\"数量列:\", qty_col, \"| 単価列:\", price_col, \"| 金額列:\", amt_col)\n",
    "if None in (qty_col, price_col, amt_col):\n",
    "    raise KeyError(\"数量・単価・金額に該当する列が見つかりません。\")"
   ]
  },
  {
   "cell_type": "code",
   "execution_count": 6,
   "id": "d92e61bb",
   "metadata": {
    "scrolled": true
   },
   "outputs": [
    {
     "data": {
      "text/html": [
       "<div>\n",
       "<style scoped>\n",
       "    .dataframe tbody tr th:only-of-type {\n",
       "        vertical-align: middle;\n",
       "    }\n",
       "\n",
       "    .dataframe tbody tr th {\n",
       "        vertical-align: top;\n",
       "    }\n",
       "\n",
       "    .dataframe thead th {\n",
       "        text-align: right;\n",
       "    }\n",
       "</style>\n",
       "<table border=\"1\" class=\"dataframe\">\n",
       "  <thead>\n",
       "    <tr style=\"text-align: right;\">\n",
       "      <th></th>\n",
       "      <th>No.</th>\n",
       "      <th>商品コード</th>\n",
       "      <th>商品名</th>\n",
       "      <th>仕様・規格</th>\n",
       "      <th>単位</th>\n",
       "      <th>数量</th>\n",
       "      <th>単価(円)</th>\n",
       "      <th>金額(円)</th>\n",
       "      <th>備考</th>\n",
       "    </tr>\n",
       "  </thead>\n",
       "  <tbody>\n",
       "    <tr>\n",
       "      <th>0</th>\n",
       "      <td>1</td>\n",
       "      <td>A001-001</td>\n",
       "      <td>コピー用紙 A4</td>\n",
       "      <td>白色 500枚/包</td>\n",
       "      <td>箱</td>\n",
       "      <td>50</td>\n",
       "      <td>2500</td>\n",
       "      <td>125000</td>\n",
       "      <td>10箱/ケース</td>\n",
       "    </tr>\n",
       "    <tr>\n",
       "      <th>1</th>\n",
       "      <td>2</td>\n",
       "      <td>B002-005</td>\n",
       "      <td>ボールペン 黒</td>\n",
       "      <td>0.7mm ノック式</td>\n",
       "      <td>本</td>\n",
       "      <td>200</td>\n",
       "      <td>120</td>\n",
       "      <td>24000</td>\n",
       "      <td>10本/箱</td>\n",
       "    </tr>\n",
       "    <tr>\n",
       "      <th>2</th>\n",
       "      <td>3</td>\n",
       "      <td>C003-012</td>\n",
       "      <td>クリアファイル A4</td>\n",
       "      <td>20ポケット 透明</td>\n",
       "      <td>冊</td>\n",
       "      <td>100</td>\n",
       "      <td>350</td>\n",
       "      <td>35000</td>\n",
       "      <td></td>\n",
       "    </tr>\n",
       "    <tr>\n",
       "      <th>3</th>\n",
       "      <td>4</td>\n",
       "      <td>D004-025</td>\n",
       "      <td>プリンターインク</td>\n",
       "      <td>BK 大容量</td>\n",
       "      <td>個</td>\n",
       "      <td>30</td>\n",
       "      <td>3200</td>\n",
       "      <td>96000</td>\n",
       "      <td>純正品</td>\n",
       "    </tr>\n",
       "    <tr>\n",
       "      <th>4</th>\n",
       "      <td>5</td>\n",
       "      <td>E005-008</td>\n",
       "      <td>付箋紙セット</td>\n",
       "      <td>75×75mm 5色</td>\n",
       "      <td>セット</td>\n",
       "      <td>80</td>\n",
       "      <td>480</td>\n",
       "      <td>38400</td>\n",
       "      <td>100枚×5色</td>\n",
       "    </tr>\n",
       "  </tbody>\n",
       "</table>\n",
       "</div>"
      ],
      "text/plain": [
       "  No.     商品コード         商品名       仕様・規格   単位   数量  単価(円)   金額(円)       備考\n",
       "0   1  A001-001    コピー用紙 A4   白色 500枚/包    箱   50   2500  125000  10箱/ケース\n",
       "1   2  B002-005     ボールペン 黒  0.7mm ノック式    本  200    120   24000    10本/箱\n",
       "2   3  C003-012  クリアファイル A4   20ポケット 透明    冊  100    350   35000         \n",
       "3   4  D004-025    プリンターインク      BK 大容量    個   30   3200   96000      純正品\n",
       "4   5  E005-008      付箋紙セット  75×75mm 5色  セット   80    480   38400  100枚×5色"
      ]
     },
     "metadata": {},
     "output_type": "display_data"
    }
   ],
   "source": [
    "# ── セル 5: 数値列の整形 ───────────────────────────────\n",
    "for col in (qty_col, price_col, amt_col):\n",
    "    df[col] = (\n",
    "        df[col]\n",
    "          .astype(str)\n",
    "          .str.replace(\",\", \"\", regex=False)\n",
    "          .str.replace(\"円\", \"\", regex=False)\n",
    "          .str.strip()\n",
    "          .astype(float)\n",
    "    )\n",
    " \n",
    "df[qty_col]   = df[qty_col].astype(int)\n",
    "df[price_col] = df[price_col].astype(int)\n",
    "df[amt_col]   = df[amt_col].astype(int)\n",
    " \n",
    "display(df.head())  # プレビュー"
   ]
  },
  {
   "cell_type": "code",
   "execution_count": 7,
   "id": "400b76da",
   "metadata": {},
   "outputs": [
    {
     "name": "stdout",
     "output_type": "stream",
     "text": [
      "Excel ファイルを保存しました → C:\\Users\\User\\商品発注表.xlsx\n"
     ]
    }
   ],
   "source": [
    "# ── セル 6: Excel へ書き出し ───────────────────────────────────\n",
    "excel_path = Path(\"商品発注表.xlsx\")\n",
    "df.to_excel(excel_path, index=False, engine=\"openpyxl\")\n",
    "print(f\"Excel ファイルを保存しました → {excel_path.resolve()}\")"
   ]
  },
  {
   "cell_type": "code",
   "execution_count": 8,
   "id": "c4fdd2fc",
   "metadata": {},
   "outputs": [
    {
     "data": {
      "image/png": "[encoded data removed]",
      "text/plain": [
       "<Figure size 1000x600 with 1 Axes>"
      ]
     },
     "metadata": {},
     "output_type": "display_data"
    }
   ],
   "source": [
    "# ── セル 7: 数量を棒グラフで可視化 ────────────────────────────────\n",
    "import matplotlib.pyplot as plt\n",
    " \n",
    "# グラフに使うキー（商品名があれば優先、無ければ商品コード）\n",
    "group_key = \"商品名\" if \"商品名\" in df.columns else \"商品コード\"\n",
    " \n",
    "# 品目ごと数量を合計して多い順に並べ替え\n",
    "qty_by_item = (\n",
    "    df.groupby(group_key)[qty_col]\n",
    "      .sum()\n",
    "      .sort_values(ascending=False)\n",
    ")\n",
    " \n",
    "plt.figure(figsize=(10, 6))\n",
    "qty_by_item.head(20).plot(kind=\"bar\")          # 上位 20 品目を表示\n",
    "plt.title(\"商品の数量（上位 20 品目）\")\n",
    "plt.ylabel(\"数量\")\n",
    "plt.xlabel(group_key)\n",
    "plt.xticks(rotation=45, ha=\"right\")\n",
    "plt.tight_layout()\n",
    "plt.savefig(\"quantity_barplot.png\", dpi=300)    # 画像ファイルとしても保存\n",
    "plt.show()"
   ]
  },
  {
   "cell_type": "code",
   "execution_count": 10,
   "id": "934a2d97",
   "metadata": {},
   "outputs": [
    {
     "name": "stdout",
     "output_type": "stream",
     "text": [
      "▼ 集計レポート\n",
      "  総数量          : 2,521\n",
      "  総金額 (税抜)   : 710,980\n",
      "  総金額 (税込)   : 782,078\n",
      "\n",
      "▼ 数量 上位 5 品目\n"
     ]
    },
    {
     "data": {
      "text/html": [
       "<div>\n",
       "<style scoped>\n",
       "    .dataframe tbody tr th:only-of-type {\n",
       "        vertical-align: middle;\n",
       "    }\n",
       "\n",
       "    .dataframe tbody tr th {\n",
       "        vertical-align: top;\n",
       "    }\n",
       "\n",
       "    .dataframe thead th {\n",
       "        text-align: right;\n",
       "    }\n",
       "</style>\n",
       "<table border=\"1\" class=\"dataframe\">\n",
       "  <thead>\n",
       "    <tr style=\"text-align: right;\">\n",
       "      <th></th>\n",
       "      <th>数量</th>\n",
       "    </tr>\n",
       "    <tr>\n",
       "      <th>商品名</th>\n",
       "      <th></th>\n",
       "    </tr>\n",
       "  </thead>\n",
       "  <tbody>\n",
       "    <tr>\n",
       "      <th>封筒 長3</th>\n",
       "      <td>1000</td>\n",
       "    </tr>\n",
       "    <tr>\n",
       "      <th>ラミネートフィルム</th>\n",
       "      <td>500</td>\n",
       "    </tr>\n",
       "    <tr>\n",
       "      <th>ボールペン 黒</th>\n",
       "      <td>200</td>\n",
       "    </tr>\n",
       "    <tr>\n",
       "      <th>ダブルクリップ</th>\n",
       "      <td>200</td>\n",
       "    </tr>\n",
       "    <tr>\n",
       "      <th>クリアファイル A4</th>\n",
       "      <td>100</td>\n",
       "    </tr>\n",
       "  </tbody>\n",
       "</table>\n",
       "</div>"
      ],
      "text/plain": [
       "              数量\n",
       "商品名             \n",
       "封筒 長3       1000\n",
       "ラミネートフィルム    500\n",
       "ボールペン 黒      200\n",
       "ダブルクリップ      200\n",
       "クリアファイル A4   100"
      ]
     },
     "metadata": {},
     "output_type": "display_data"
    },
    {
     "name": "stdout",
     "output_type": "stream",
     "text": [
      "\n",
      "▼ 金額 上位 5 品目\n"
     ]
    },
    {
     "data": {
      "text/html": [
       "<div>\n",
       "<style scoped>\n",
       "    .dataframe tbody tr th:only-of-type {\n",
       "        vertical-align: middle;\n",
       "    }\n",
       "\n",
       "    .dataframe tbody tr th {\n",
       "        vertical-align: top;\n",
       "    }\n",
       "\n",
       "    .dataframe thead th {\n",
       "        text-align: right;\n",
       "    }\n",
       "</style>\n",
       "<table border=\"1\" class=\"dataframe\">\n",
       "  <thead>\n",
       "    <tr style=\"text-align: right;\">\n",
       "      <th></th>\n",
       "      <th>金額 (円)</th>\n",
       "    </tr>\n",
       "    <tr>\n",
       "      <th>商品名</th>\n",
       "      <th></th>\n",
       "    </tr>\n",
       "  </thead>\n",
       "  <tbody>\n",
       "    <tr>\n",
       "      <th>コピー用紙 A4</th>\n",
       "      <td>125000</td>\n",
       "    </tr>\n",
       "    <tr>\n",
       "      <th>プリンターインク</th>\n",
       "      <td>96000</td>\n",
       "    </tr>\n",
       "    <tr>\n",
       "      <th>デスクマット</th>\n",
       "      <td>58500</td>\n",
       "    </tr>\n",
       "    <tr>\n",
       "      <th>書類トレー</th>\n",
       "      <td>43200</td>\n",
       "    </tr>\n",
       "    <tr>\n",
       "      <th>電卓</th>\n",
       "      <td>42000</td>\n",
       "    </tr>\n",
       "  </tbody>\n",
       "</table>\n",
       "</div>"
      ],
      "text/plain": [
       "          金額 (円)\n",
       "商品名             \n",
       "コピー用紙 A4  125000\n",
       "プリンターインク   96000\n",
       "デスクマット     58500\n",
       "書類トレー      43200\n",
       "電卓         42000"
      ]
     },
     "metadata": {},
     "output_type": "display_data"
    }
   ],
   "source": [
    "print(\"▼ 集計レポート\")\n",
    "total_qty = df[qty_col].sum()\n",
    "total_amt = df[amt_col].sum()\n",
    "total_amt_tax = total_amt * 1.10\n",
    "\n",
    "print(f\"  総数量          : {total_qty:,}\")\n",
    "print(f\"  総金額 (税抜)   : {total_amt:,}\")\n",
    "print(f\"  総金額 (税込)   : {total_amt_tax:,.0f}\")\n",
    "\n",
    "print(\"\\n▼ 数量 上位 5 品目\")\n",
    "display(qty_by_item.head(5).to_frame(name=\"数量\"))\n",
    "\n",
    "print(\"\\n▼ 金額 上位 5 品目\")\n",
    "amt_by_item = (\n",
    "    df.groupby(group_key)[amt_col]\n",
    "      .sum()\n",
    "      .sort_values(ascending=False)\n",
    ")\n",
    "display(amt_by_item.head(5).to_frame(name=\"金額 (円)\"))\n"
   ]
  },
  {
   "cell_type": "code",
   "execution_count": null,
   "id": "5da57985",
   "metadata": {},
   "outputs": [],
   "source": []
  }
 ],
 "metadata": {
  "kernelspec": {
   "display_name": "pdf_deta",
   "language": "python",
   "name": "pdf_deta"
  },
  "language_info": {
   "codemirror_mode": {
    "name": "ipython",
    "version": 3
   },
   "file_extension": ".py",
   "mimetype": "text/x-python",
   "name": "python",
   "nbconvert_exporter": "python",
   "pygments_lexer": "ipython3",
   "version": "3.10.18"
  }
 },
 "nbformat": 4,
 "nbformat_minor": 5
}
